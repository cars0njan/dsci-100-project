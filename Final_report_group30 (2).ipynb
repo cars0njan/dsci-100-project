{
 "cells": [
  {
   "cell_type": "markdown",
   "id": "75274518-ed45-476d-92cf-0eefa8e4ccbc",
   "metadata": {},
   "source": [
    "# `<Title>`\n",
    "\n",
    "Authors:\n",
    "- Carson Jan\n",
    "- Ken Yang\n",
    "- Xiaoheng Wang\n",
    "- Yunle Xu\n",
    "\n",
    "DSCI 100 003 <br>\n",
    "Project Final Report <br>\n",
    "Group 30\n",
    "\n",
    "---\n",
    "# Introduction\n",
    "## Background infomation on the topic\n",
    "The project focuses on data from a MineCraft research server set up by UBC Computer Science. The server records player actions, and the goal is to address practical challenges:\n",
    "\n",
    "1. Player Recruitment: Identifying which types of players contribute the most data to target recruitment effectively.\n",
    "2. Resource Allocation: Predicting player activity to manage server resources like hardware and licenses.\n",
    "\n",
    "The main question is: “Which kinds of players are most likely to contribute a large amount of data?”\n",
    "\n",
    "Using a Jupyter Notebook, the project will clean data, explore patterns, build predictive models, and document results for actionable insights.\n",
    "\n",
    "## Posted question\n",
    "We choose the first question: We would like to know which \"kinds\" of players are most likely to contribute a large amount of data so that we can target those players in our recruiting efforts.\n",
    "\n",
    "\n",
    "## Description of the dataset used\n",
    "|variable Name|Type|Description|\n",
    "|---|---|---|\n",
    "|hashedEmail|character|A hashed version of the player’s email, used to anonymize player identity|\n",
    "|start_time|character|The start time of the player’s session (needs to be converted to date-time format)|\n",
    "|end_time|character|The end time of the player’s session (needs to be converted to date-time format)|\n",
    "|original_start_time|numeric|The exact start time recorded as a timestamp|\n",
    "|original_end_time|numeric|The exact end time recorded as a timestamp|\n",
    "\n",
    "\n",
    "---\n",
    "# Methods & Results\n",
    "\n",
    "## Methods used\n",
    "## Code"
   ]
  },
  {
   "cell_type": "markdown",
   "id": "19486ec8-ce41-4e69-906b-5d2baf071816",
   "metadata": {},
   "source": [
    "#### Libraries/ initialization"
   ]
  },
  {
   "cell_type": "code",
   "execution_count": null,
   "id": "9daebc4a-6580-4580-b790-c5421bb60534",
   "metadata": {},
   "outputs": [],
   "source": []
  },
  {
   "cell_type": "markdown",
   "id": "3d627fc0-dd2a-432a-b2f5-c12d06228544",
   "metadata": {},
   "source": [
    "#### Load data"
   ]
  },
  {
   "cell_type": "code",
   "execution_count": null,
   "id": "775e2341-de2f-4c06-97ef-1d588be63fca",
   "metadata": {},
   "outputs": [],
   "source": []
  },
  {
   "cell_type": "markdown",
   "id": "7b057759-09fd-4334-afe5-e21dbfee6ae6",
   "metadata": {},
   "source": [
    "#### Wrangle & Clean data"
   ]
  },
  {
   "cell_type": "code",
   "execution_count": null,
   "id": "31829104-1644-43dd-92c4-41e77f330fdd",
   "metadata": {},
   "outputs": [],
   "source": []
  },
  {
   "cell_type": "markdown",
   "id": "b910ae5a-967a-4979-ba98-1b8df47d751d",
   "metadata": {},
   "source": [
    "#### Summary of dataset\n",
    "> exploratory data analysis related to the planned analysis "
   ]
  },
  {
   "cell_type": "code",
   "execution_count": null,
   "id": "bbd489b6-4d34-4bab-83fa-dfd014151b6e",
   "metadata": {},
   "outputs": [],
   "source": []
  },
  {
   "cell_type": "markdown",
   "id": "9e5e780f-0498-4069-8f88-7c5ad7856cd6",
   "metadata": {},
   "source": [
    "#### Visualization of dataset \n",
    "> exploratory data analysis related to the planned analysis"
   ]
  },
  {
   "cell_type": "code",
   "execution_count": null,
   "id": "f992426d-94ea-477b-8dd3-b96e015bf805",
   "metadata": {},
   "outputs": [],
   "source": []
  },
  {
   "cell_type": "markdown",
   "id": "deecdd62-f26f-4a7d-a85b-686ce97f2e34",
   "metadata": {},
   "source": [
    "#### Data analysis"
   ]
  },
  {
   "cell_type": "code",
   "execution_count": null,
   "id": "eda0bb08-5c89-4098-8fe2-121b23813fa4",
   "metadata": {},
   "outputs": [],
   "source": []
  },
  {
   "cell_type": "markdown",
   "id": "9cf8776d-0c5e-4ffe-8a4a-f34b70c8d39b",
   "metadata": {},
   "source": [
    "#### Visualization\n",
    "> note: all figures should have a figure number and a legend"
   ]
  },
  {
   "cell_type": "code",
   "execution_count": null,
   "id": "9716c424-5cfa-4d7c-9070-3b0ee86bc8bd",
   "metadata": {},
   "outputs": [],
   "source": []
  },
  {
   "cell_type": "markdown",
   "id": "c620a3f6-de5d-4b00-8efe-a2548d51a61d",
   "metadata": {},
   "source": [
    "---\n",
    "# Discussion\n",
    "## Summarization\n",
    "## Is it what we expected to found?\n",
    "## What impact could such findings have\n",
    "## What future questions chould this lead to?\n",
    "\n",
    "---\n",
    "# References\n",
    "> *note to group members: Use APA 7, please*\n",
    "\n",
    "---\n",
    "End of report <br>\n",
    "Finalized and approved by all group member on `<date>`\n",
    "> *note to group members: run report through grammar check, please*\n",
    "\n",
    "\n",
    "To be uploaded by `<member>` by `<date>`"
   ]
  },
  {
   "cell_type": "code",
   "execution_count": null,
   "id": "d23c67a9-d4af-4162-97dd-b4409874e2fa",
   "metadata": {},
   "outputs": [],
   "source": []
  }
 ],
 "metadata": {
  "kernelspec": {
   "display_name": "R",
   "language": "R",
   "name": "ir"
  },
  "language_info": {
   "codemirror_mode": "r",
   "file_extension": ".r",
   "mimetype": "text/x-r-source",
   "name": "R",
   "pygments_lexer": "r",
   "version": "4.3.3"
  }
 },
 "nbformat": 4,
 "nbformat_minor": 5
}
